{
 "cells": [
  {
   "cell_type": "code",
   "execution_count": 88,
   "metadata": {
    "collapsed": true
   },
   "outputs": [],
   "source": [
    "from __future__ import print_function\n",
    "import pandas as pd \n",
    "from scipy import stats"
   ]
  },
  {
   "cell_type": "markdown",
   "metadata": {},
   "source": [
    "# CDiscount Category Analysis\n",
    "This notebook aims to analyze the distribution of the categories in light of desinign a scalable strategy to tackle this large scale classification problem."
   ]
  },
  {
   "cell_type": "code",
   "execution_count": 5,
   "metadata": {
    "collapsed": true
   },
   "outputs": [],
   "source": [
    "# Parameters\n",
    "DATASET_ROOT = '../Data/raw/'"
   ]
  },
  {
   "cell_type": "code",
   "execution_count": 7,
   "metadata": {
    "collapsed": true
   },
   "outputs": [],
   "source": [
    "# Load Dataset\n",
    "data = pd.read_csv(DATASET_ROOT+'category_names.csv')"
   ]
  },
  {
   "cell_type": "code",
   "execution_count": 15,
   "metadata": {
    "collapsed": false
   },
   "outputs": [
    {
     "name": "stdout",
     "output_type": "stream",
     "text": [
      "TOTAL RECORDS: 21080\n"
     ]
    },
    {
     "data": {
      "text/html": [
       "<div>\n",
       "<table border=\"1\" class=\"dataframe\">\n",
       "  <thead>\n",
       "    <tr style=\"text-align: right;\">\n",
       "      <th></th>\n",
       "      <th>category_id</th>\n",
       "      <th>category_level1</th>\n",
       "      <th>category_level2</th>\n",
       "      <th>category_level3</th>\n",
       "    </tr>\n",
       "  </thead>\n",
       "  <tbody>\n",
       "    <tr>\n",
       "      <th>0</th>\n",
       "      <td>1000021794</td>\n",
       "      <td>ABONNEMENT / SERVICES</td>\n",
       "      <td>CARTE PREPAYEE</td>\n",
       "      <td>CARTE PREPAYEE MULTIMEDIA</td>\n",
       "    </tr>\n",
       "    <tr>\n",
       "      <th>1</th>\n",
       "      <td>1000012764</td>\n",
       "      <td>AMENAGEMENT URBAIN - VOIRIE</td>\n",
       "      <td>AMENAGEMENT URBAIN</td>\n",
       "      <td>ABRI FUMEUR</td>\n",
       "    </tr>\n",
       "    <tr>\n",
       "      <th>2</th>\n",
       "      <td>1000012776</td>\n",
       "      <td>AMENAGEMENT URBAIN - VOIRIE</td>\n",
       "      <td>AMENAGEMENT URBAIN</td>\n",
       "      <td>ABRI VELO - ABRI MOTO</td>\n",
       "    </tr>\n",
       "    <tr>\n",
       "      <th>3</th>\n",
       "      <td>1000012768</td>\n",
       "      <td>AMENAGEMENT URBAIN - VOIRIE</td>\n",
       "      <td>AMENAGEMENT URBAIN</td>\n",
       "      <td>FONTAINE A EAU</td>\n",
       "    </tr>\n",
       "    <tr>\n",
       "      <th>4</th>\n",
       "      <td>1000012755</td>\n",
       "      <td>AMENAGEMENT URBAIN - VOIRIE</td>\n",
       "      <td>SIGNALETIQUE</td>\n",
       "      <td>PANNEAU D'INFORMATION EXTERIEUR</td>\n",
       "    </tr>\n",
       "  </tbody>\n",
       "</table>\n",
       "</div>"
      ],
      "text/plain": [
       "   category_id              category_level1     category_level2  \\\n",
       "0   1000021794        ABONNEMENT / SERVICES      CARTE PREPAYEE   \n",
       "1   1000012764  AMENAGEMENT URBAIN - VOIRIE  AMENAGEMENT URBAIN   \n",
       "2   1000012776  AMENAGEMENT URBAIN - VOIRIE  AMENAGEMENT URBAIN   \n",
       "3   1000012768  AMENAGEMENT URBAIN - VOIRIE  AMENAGEMENT URBAIN   \n",
       "4   1000012755  AMENAGEMENT URBAIN - VOIRIE        SIGNALETIQUE   \n",
       "\n",
       "                   category_level3  \n",
       "0        CARTE PREPAYEE MULTIMEDIA  \n",
       "1                      ABRI FUMEUR  \n",
       "2            ABRI VELO - ABRI MOTO  \n",
       "3                   FONTAINE A EAU  \n",
       "4  PANNEAU D'INFORMATION EXTERIEUR  "
      ]
     },
     "execution_count": 15,
     "metadata": {},
     "output_type": "execute_result"
    }
   ],
   "source": [
    "print('TOTAL RECORDS: ' + str(data.size))\n",
    "data.head()"
   ]
  },
  {
   "cell_type": "markdown",
   "metadata": {},
   "source": [
    "### Category 1 Analysis"
   ]
  },
  {
   "cell_type": "code",
   "execution_count": 25,
   "metadata": {
    "collapsed": false
   },
   "outputs": [
    {
     "name": "stdout",
     "output_type": "stream",
     "text": [
      "CAT 1 - Unique Total: 49\n",
      "\n",
      "['ABONNEMENT / SERVICES', 'AMENAGEMENT URBAIN - VOIRIE', 'ANIMALERIE', 'APICULTURE', 'ART DE LA TABLE - ARTICLES CULINAIRES', 'ARTICLES POUR FUMEUR', 'AUTO - MOTO', 'BAGAGERIE', 'BATEAU MOTEUR - VOILIER', 'BIJOUX -  LUNETTES - MONTRES', 'BRICOLAGE - OUTILLAGE - QUINCAILLERIE', 'CHAUSSURES - ACCESSOIRES', 'COFFRET CADEAU BOX', 'CONDITIONNEMENT', 'DECO - LINGE - LUMINAIRE', 'DROGUERIE', 'DVD - BLU-RAY', 'ELECTROMENAGER', 'ELECTRONIQUE', 'EPICERIE', 'FUNERAIRE', 'HYGIENE - BEAUTE - PARFUM', 'INFORMATIQUE', 'INSTRUMENTS DE MUSIQUE', 'JARDIN - PISCINE', 'JEUX - JOUETS', 'JEUX VIDEO', 'LIBRAIRIE', 'LITERIE', 'LOISIRS CREATIFS - BEAUX ARTS - PAPETERIE', 'MANUTENTION', 'MATERIEL DE BUREAU', 'MATERIEL MEDICAL', 'MERCERIE', 'MEUBLE', 'MUSIQUE', 'PARAPHARMACIE', 'PHOTO - OPTIQUE', 'POINT DE VENTE - COMMERCE - ADMINISTRATION', 'PRODUITS FRAIS', 'PRODUITS SURGELES', 'PUERICULTURE', 'SONO - DJ', 'SPORT', 'TATOUAGE - PIERCING', 'TELEPHONIE - GPS', 'TENUE PROFESSIONNELLE', 'TV - VIDEO - SON', 'VIN - ALCOOL - LIQUIDES']\n"
     ]
    }
   ],
   "source": [
    "cat1_list = data.category_level1.unique().tolist()\n",
    "print('CAT 1 - Unique Total: ' + str(len(cat1_list)) + '\\n')\n",
    "print(cat1_list)"
   ]
  },
  {
   "cell_type": "markdown",
   "metadata": {},
   "source": [
    "### Category 2 Analysis\n",
    "Look at the distribution of CAT2 per CAT1 - in particular to analyze the overall per category labels."
   ]
  },
  {
   "cell_type": "code",
   "execution_count": 29,
   "metadata": {
    "collapsed": false
   },
   "outputs": [],
   "source": [
    "# Build Category Dictionary\n",
    "cat_dict = {i:dict() for i in cat1_list}"
   ]
  },
  {
   "cell_type": "code",
   "execution_count": 68,
   "metadata": {
    "collapsed": false
   },
   "outputs": [],
   "source": [
    "# Aggregate Category 2 Per Category 1\n",
    "data_dict = data.to_dict()\n",
    "for k, v in data_dict['category_level1'].iteritems():\n",
    "    if v not in cat_dict[v]: cat_dict[v][data_dict['category_level2'][k]] = dict()"
   ]
  },
  {
   "cell_type": "code",
   "execution_count": 79,
   "metadata": {
    "collapsed": false
   },
   "outputs": [
    {
     "name": "stdout",
     "output_type": "stream",
     "text": [
      "[('ELECTRONIQUE', 10), ('PRODUITS SURGELES', 1), ('BIJOUX -  LUNETTES - MONTRES', 3), ('AUTO - MOTO', 11), ('PHOTO - OPTIQUE', 15), ('ABONNEMENT / SERVICES', 1), ('CONDITIONNEMENT', 7), ('TENUE PROFESSIONNELLE', 4), ('DVD - BLU-RAY', 3), ('COFFRET CADEAU BOX', 1), ('DECO - LINGE - LUMINAIRE', 20), ('PUERICULTURE', 13), ('MATERIEL MEDICAL', 25), ('SONO - DJ', 8), ('JARDIN - PISCINE', 13), ('CHAUSSURES - ACCESSOIRES', 5), ('ARTICLES POUR FUMEUR', 6), ('MATERIEL DE BUREAU', 8), ('HYGIENE - BEAUTE - PARFUM', 13), ('PARAPHARMACIE', 5), ('ART DE LA TABLE - ARTICLES CULINAIRES', 12), ('EPICERIE', 17), ('SPORT', 40), ('LIBRAIRIE', 29), ('INFORMATIQUE', 13), ('DROGUERIE', 10), ('TATOUAGE - PIERCING', 8), ('VIN - ALCOOL - LIQUIDES', 8), ('APICULTURE', 1), ('INSTRUMENTS DE MUSIQUE', 10), ('TV - VIDEO - SON', 11), ('ELECTROMENAGER', 15), ('MEUBLE', 8), ('MUSIQUE', 2), ('MERCERIE', 5), ('BATEAU MOTEUR - VOILIER', 13), ('LOISIRS CREATIFS - BEAUX ARTS - PAPETERIE', 21), ('BAGAGERIE', 5), ('ANIMALERIE', 15), ('MANUTENTION', 3), ('PRODUITS FRAIS', 2), ('JEUX - JOUETS', 17), ('POINT DE VENTE - COMMERCE - ADMINISTRATION', 12), ('FUNERAIRE', 1), ('LITERIE', 4), ('TELEPHONIE - GPS', 7), ('AMENAGEMENT URBAIN - VOIRIE', 4), ('BRICOLAGE - OUTILLAGE - QUINCAILLERIE', 17), ('JEUX VIDEO', 4)]\n"
     ]
    }
   ],
   "source": [
    "# Generate Distribution Counts of Category 2 per Category 1\n",
    "cat2_dist = []\n",
    "for k, v in cat_dict.iteritems(): cat2_dist.append((k, len(v)))\n",
    "print(cat2_dist)"
   ]
  },
  {
   "cell_type": "code",
   "execution_count": 90,
   "metadata": {
    "collapsed": false
   },
   "outputs": [
    {
     "data": {
      "text/plain": [
       "DescribeResult(nobs=49, minmax=(1, 40), mean=9.9183673469387763, variance=61.701530612244902, skewness=1.503873612531015, kurtosis=3.103971878687968)"
      ]
     },
     "execution_count": 90,
     "metadata": {},
     "output_type": "execute_result"
    }
   ],
   "source": [
    "# Obtain General Stats for CAT2 Distribution\n",
    "stats.describe([i[1] for i in cat2_dist])"
   ]
  },
  {
   "cell_type": "markdown",
   "metadata": {},
   "source": [
    "## Potential Strategies\n",
    "Based on the analysis performed above, here are potential strategies we can employ based on the overall data types we are working with.\n",
    "* Exploit the provided hierarchy in some form - perhaps using a bayseian based approach for implementing topic modleing to use posterior knolwedge of the high level category to classify and reduce the search space for classification.\n",
    "\n",
    "* Build a hierarchical model, which first classifies the product in the first category through one independent model, then use another model which takes on the weight from the parent models and prune weights according to the data - use some large scale ResNet architecture to handle this amount of categories...\n",
    "\n",
    "* Question is how deep of a model is necessary to achieve a much higher accruacy/precision...?"
   ]
  }
 ],
 "metadata": {
  "kernelspec": {
   "display_name": "Python 2",
   "language": "python",
   "name": "python2"
  },
  "language_info": {
   "codemirror_mode": {
    "name": "ipython",
    "version": 2
   },
   "file_extension": ".py",
   "mimetype": "text/x-python",
   "name": "python",
   "nbconvert_exporter": "python",
   "pygments_lexer": "ipython2",
   "version": "2.7.5"
  }
 },
 "nbformat": 4,
 "nbformat_minor": 1
}
